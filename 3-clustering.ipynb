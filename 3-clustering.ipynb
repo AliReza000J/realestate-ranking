{
 "cells": [
  {
   "cell_type": "code",
   "execution_count": 1,
   "id": "cc496e1e",
   "metadata": {
    "execution": {
     "iopub.execute_input": "2025-05-19T15:51:25.032428Z",
     "iopub.status.busy": "2025-05-19T15:51:25.032063Z",
     "iopub.status.idle": "2025-05-19T15:52:35.682640Z",
     "shell.execute_reply": "2025-05-19T15:52:35.681053Z"
    },
    "id": "5MrXubZ_cTGe",
    "papermill": {
     "duration": 70.659653,
     "end_time": "2025-05-19T15:52:35.685143",
     "exception": false,
     "start_time": "2025-05-19T15:51:25.025490",
     "status": "completed"
    },
    "tags": []
   },
   "outputs": [
    {
     "name": "stdout",
     "output_type": "stream",
     "text": [
      "Collecting umap-learn\r\n",
      "  Downloading umap_learn-0.5.7-py3-none-any.whl.metadata (21 kB)\r\n",
      "Requirement already satisfied: numpy>=1.17 in /usr/local/lib/python3.11/dist-packages (from umap-learn) (1.26.4)\r\n",
      "Requirement already satisfied: scipy>=1.3.1 in /usr/local/lib/python3.11/dist-packages (from umap-learn) (1.15.2)\r\n",
      "Requirement already satisfied: scikit-learn>=0.22 in /usr/local/lib/python3.11/dist-packages (from umap-learn) (1.2.2)\r\n",
      "Requirement already satisfied: numba>=0.51.2 in /usr/local/lib/python3.11/dist-packages (from umap-learn) (0.60.0)\r\n",
      "Collecting pynndescent>=0.5 (from umap-learn)\r\n",
      "  Downloading pynndescent-0.5.13-py3-none-any.whl.metadata (6.8 kB)\r\n",
      "Requirement already satisfied: tqdm in /usr/local/lib/python3.11/dist-packages (from umap-learn) (4.67.1)\r\n",
      "Requirement already satisfied: llvmlite<0.44,>=0.43.0dev0 in /usr/local/lib/python3.11/dist-packages (from numba>=0.51.2->umap-learn) (0.43.0)\r\n",
      "Requirement already satisfied: mkl_fft in /usr/local/lib/python3.11/dist-packages (from numpy>=1.17->umap-learn) (1.3.8)\r\n",
      "Requirement already satisfied: mkl_random in /usr/local/lib/python3.11/dist-packages (from numpy>=1.17->umap-learn) (1.2.4)\r\n",
      "Requirement already satisfied: mkl_umath in /usr/local/lib/python3.11/dist-packages (from numpy>=1.17->umap-learn) (0.1.1)\r\n",
      "Requirement already satisfied: mkl in /usr/local/lib/python3.11/dist-packages (from numpy>=1.17->umap-learn) (2025.1.0)\r\n",
      "Requirement already satisfied: tbb4py in /usr/local/lib/python3.11/dist-packages (from numpy>=1.17->umap-learn) (2022.1.0)\r\n",
      "Requirement already satisfied: mkl-service in /usr/local/lib/python3.11/dist-packages (from numpy>=1.17->umap-learn) (2.4.1)\r\n",
      "Requirement already satisfied: joblib>=0.11 in /usr/local/lib/python3.11/dist-packages (from pynndescent>=0.5->umap-learn) (1.4.2)\r\n",
      "Requirement already satisfied: threadpoolctl>=2.0.0 in /usr/local/lib/python3.11/dist-packages (from scikit-learn>=0.22->umap-learn) (3.6.0)\r\n",
      "Requirement already satisfied: intel-openmp<2026,>=2024 in /usr/local/lib/python3.11/dist-packages (from mkl->numpy>=1.17->umap-learn) (2024.2.0)\r\n",
      "Requirement already satisfied: tbb==2022.* in /usr/local/lib/python3.11/dist-packages (from mkl->numpy>=1.17->umap-learn) (2022.1.0)\r\n",
      "Requirement already satisfied: tcmlib==1.* in /usr/local/lib/python3.11/dist-packages (from tbb==2022.*->mkl->numpy>=1.17->umap-learn) (1.2.0)\r\n",
      "Requirement already satisfied: intel-cmplr-lib-rt in /usr/local/lib/python3.11/dist-packages (from mkl_umath->numpy>=1.17->umap-learn) (2024.2.0)\r\n",
      "Requirement already satisfied: intel-cmplr-lib-ur==2024.2.0 in /usr/local/lib/python3.11/dist-packages (from intel-openmp<2026,>=2024->mkl->numpy>=1.17->umap-learn) (2024.2.0)\r\n",
      "Downloading umap_learn-0.5.7-py3-none-any.whl (88 kB)\r\n",
      "\u001b[2K   \u001b[90m━━━━━━━━━━━━━━━━━━━━━━━━━━━━━━━━━━━━━━━━\u001b[0m \u001b[32m88.8/88.8 kB\u001b[0m \u001b[31m3.3 MB/s\u001b[0m eta \u001b[36m0:00:00\u001b[0m\r\n",
      "\u001b[?25hDownloading pynndescent-0.5.13-py3-none-any.whl (56 kB)\r\n",
      "\u001b[2K   \u001b[90m━━━━━━━━━━━━━━━━━━━━━━━━━━━━━━━━━━━━━━━━\u001b[0m \u001b[32m56.9/56.9 kB\u001b[0m \u001b[31m2.4 MB/s\u001b[0m eta \u001b[36m0:00:00\u001b[0m\r\n",
      "\u001b[?25hInstalling collected packages: pynndescent, umap-learn\r\n",
      "Successfully installed pynndescent-0.5.13 umap-learn-0.5.7\r\n",
      "Collecting scikit-learn-extra\r\n",
      "  Downloading scikit_learn_extra-0.3.0-cp311-cp311-manylinux_2_17_x86_64.manylinux2014_x86_64.whl.metadata (3.6 kB)\r\n",
      "Requirement already satisfied: numpy>=1.13.3 in /usr/local/lib/python3.11/dist-packages (from scikit-learn-extra) (1.26.4)\r\n",
      "Requirement already satisfied: scipy>=0.19.1 in /usr/local/lib/python3.11/dist-packages (from scikit-learn-extra) (1.15.2)\r\n",
      "Requirement already satisfied: scikit-learn>=0.23.0 in /usr/local/lib/python3.11/dist-packages (from scikit-learn-extra) (1.2.2)\r\n",
      "Requirement already satisfied: mkl_fft in /usr/local/lib/python3.11/dist-packages (from numpy>=1.13.3->scikit-learn-extra) (1.3.8)\r\n",
      "Requirement already satisfied: mkl_random in /usr/local/lib/python3.11/dist-packages (from numpy>=1.13.3->scikit-learn-extra) (1.2.4)\r\n",
      "Requirement already satisfied: mkl_umath in /usr/local/lib/python3.11/dist-packages (from numpy>=1.13.3->scikit-learn-extra) (0.1.1)\r\n",
      "Requirement already satisfied: mkl in /usr/local/lib/python3.11/dist-packages (from numpy>=1.13.3->scikit-learn-extra) (2025.1.0)\r\n",
      "Requirement already satisfied: tbb4py in /usr/local/lib/python3.11/dist-packages (from numpy>=1.13.3->scikit-learn-extra) (2022.1.0)\r\n",
      "Requirement already satisfied: mkl-service in /usr/local/lib/python3.11/dist-packages (from numpy>=1.13.3->scikit-learn-extra) (2.4.1)\r\n",
      "Requirement already satisfied: joblib>=1.1.1 in /usr/local/lib/python3.11/dist-packages (from scikit-learn>=0.23.0->scikit-learn-extra) (1.4.2)\r\n",
      "Requirement already satisfied: threadpoolctl>=2.0.0 in /usr/local/lib/python3.11/dist-packages (from scikit-learn>=0.23.0->scikit-learn-extra) (3.6.0)\r\n",
      "Requirement already satisfied: intel-openmp<2026,>=2024 in /usr/local/lib/python3.11/dist-packages (from mkl->numpy>=1.13.3->scikit-learn-extra) (2024.2.0)\r\n",
      "Requirement already satisfied: tbb==2022.* in /usr/local/lib/python3.11/dist-packages (from mkl->numpy>=1.13.3->scikit-learn-extra) (2022.1.0)\r\n",
      "Requirement already satisfied: tcmlib==1.* in /usr/local/lib/python3.11/dist-packages (from tbb==2022.*->mkl->numpy>=1.13.3->scikit-learn-extra) (1.2.0)\r\n",
      "Requirement already satisfied: intel-cmplr-lib-rt in /usr/local/lib/python3.11/dist-packages (from mkl_umath->numpy>=1.13.3->scikit-learn-extra) (2024.2.0)\r\n",
      "Requirement already satisfied: intel-cmplr-lib-ur==2024.2.0 in /usr/local/lib/python3.11/dist-packages (from intel-openmp<2026,>=2024->mkl->numpy>=1.13.3->scikit-learn-extra) (2024.2.0)\r\n",
      "Downloading scikit_learn_extra-0.3.0-cp311-cp311-manylinux_2_17_x86_64.manylinux2014_x86_64.whl (2.1 MB)\r\n",
      "\u001b[2K   \u001b[90m━━━━━━━━━━━━━━━━━━━━━━━━━━━━━━━━━━━━━━━━\u001b[0m \u001b[32m2.1/2.1 MB\u001b[0m \u001b[31m28.8 MB/s\u001b[0m eta \u001b[36m0:00:00\u001b[0m\r\n",
      "\u001b[?25hInstalling collected packages: scikit-learn-extra\r\n",
      "Successfully installed scikit-learn-extra-0.3.0\r\n"
     ]
    },
    {
     "name": "stderr",
     "output_type": "stream",
     "text": [
      "2025-05-19 15:52:03.459075: E external/local_xla/xla/stream_executor/cuda/cuda_fft.cc:477] Unable to register cuFFT factory: Attempting to register factory for plugin cuFFT when one has already been registered\n",
      "WARNING: All log messages before absl::InitializeLog() is called are written to STDERR\n",
      "E0000 00:00:1747669923.757152      13 cuda_dnn.cc:8310] Unable to register cuDNN factory: Attempting to register factory for plugin cuDNN when one has already been registered\n",
      "E0000 00:00:1747669923.883257      13 cuda_blas.cc:1418] Unable to register cuBLAS factory: Attempting to register factory for plugin cuBLAS when one has already been registered\n"
     ]
    }
   ],
   "source": [
    "!pip install umap-learn\n",
    "!pip install scikit-learn-extra\n",
    "\n",
    "import os\n",
    "import numpy as np\n",
    "import pandas as pd\n",
    "import matplotlib.pyplot as plt\n",
    "import seaborn as sns\n",
    "from sklearn.decomposition import TruncatedSVD\n",
    "from sklearn.preprocessing import StandardScaler\n",
    "from sklearn.feature_extraction.text import TfidfVectorizer\n",
    "from sklearn.cluster import KMeans\n",
    "from sklearn.metrics import silhouette_score\n",
    "import umap\n",
    "import re\n",
    "from scipy import sparse"
   ]
  },
  {
   "cell_type": "code",
   "execution_count": 2,
   "id": "f4ae2df5",
   "metadata": {
    "execution": {
     "iopub.execute_input": "2025-05-19T15:52:35.696639Z",
     "iopub.status.busy": "2025-05-19T15:52:35.695963Z",
     "iopub.status.idle": "2025-05-19T15:53:37.533077Z",
     "shell.execute_reply": "2025-05-19T15:53:37.530590Z"
    },
    "id": "fZQBBisJcZuB",
    "papermill": {
     "duration": 61.844761,
     "end_time": "2025-05-19T15:53:37.535107",
     "exception": false,
     "start_time": "2025-05-19T15:52:35.690346",
     "status": "completed"
    },
    "tags": []
   },
   "outputs": [
    {
     "name": "stderr",
     "output_type": "stream",
     "text": [
      "/tmp/ipykernel_13/2336238244.py:5: DtypeWarning: Columns (28) have mixed types. Specify dtype option on import or set low_memory=False.\n",
      "  main_df = pd.read_csv(\"/kaggle/input/last-clean-dataset-re-ranking/cleaned_data.csv\")\n"
     ]
    }
   ],
   "source": [
    "# -------------------- Load all data --------------------\n",
    "bert_array = np.load(\"/kaggle/input/realestate-features-final/bert_embeddings_full.npy\")\n",
    "tfidf_array = sparse.load_npz(\"/kaggle/input/realestate-features-final/tfidf_features.npz\")\n",
    "structured_df = pd.read_parquet(\"/kaggle/input/realestate-features-final/structured_features.parquet\")\n",
    "main_df = pd.read_csv(\"/kaggle/input/last-clean-dataset-re-ranking/cleaned_data.csv\")"
   ]
  },
  {
   "cell_type": "code",
   "execution_count": 3,
   "id": "cd4d309a",
   "metadata": {
    "execution": {
     "iopub.execute_input": "2025-05-19T15:53:37.546756Z",
     "iopub.status.busy": "2025-05-19T15:53:37.546379Z",
     "iopub.status.idle": "2025-05-19T15:53:37.944448Z",
     "shell.execute_reply": "2025-05-19T15:53:37.943108Z"
    },
    "papermill": {
     "duration": 0.406536,
     "end_time": "2025-05-19T15:53:37.946541",
     "exception": false,
     "start_time": "2025-05-19T15:53:37.540005",
     "status": "completed"
    },
    "tags": []
   },
   "outputs": [],
   "source": [
    "# -------------------- Align to same size --------------------\n",
    "min_len = min(len(bert_array), tfidf_array.shape[0], len(main_df))\n",
    "bert_array = bert_array[:min_len]\n",
    "tfidf_array = tfidf_array[:min_len]\n",
    "main_df = main_df.iloc[:min_len].reset_index(drop=True)"
   ]
  },
  {
   "cell_type": "code",
   "execution_count": 4,
   "id": "84e47a32",
   "metadata": {
    "execution": {
     "iopub.execute_input": "2025-05-19T15:53:37.958230Z",
     "iopub.status.busy": "2025-05-19T15:53:37.957870Z",
     "iopub.status.idle": "2025-05-19T15:53:42.115751Z",
     "shell.execute_reply": "2025-05-19T15:53:42.114370Z"
    },
    "papermill": {
     "duration": 4.165794,
     "end_time": "2025-05-19T15:53:42.118072",
     "exception": false,
     "start_time": "2025-05-19T15:53:37.952278",
     "status": "completed"
    },
    "tags": []
   },
   "outputs": [],
   "source": [
    "# -------------------- Shuffle the data --------------------\n",
    "np.random.seed(42)\n",
    "indices = np.random.permutation(len(main_df))\n",
    "\n",
    "bert_array = bert_array[indices]\n",
    "tfidf_array = tfidf_array[indices]\n",
    "main_df = main_df.iloc[indices].reset_index(drop=True)"
   ]
  },
  {
   "cell_type": "code",
   "execution_count": 5,
   "id": "018956c1",
   "metadata": {
    "execution": {
     "iopub.execute_input": "2025-05-19T15:53:42.130277Z",
     "iopub.status.busy": "2025-05-19T15:53:42.129123Z",
     "iopub.status.idle": "2025-05-19T15:53:42.257615Z",
     "shell.execute_reply": "2025-05-19T15:53:42.256283Z"
    },
    "papermill": {
     "duration": 0.13822,
     "end_time": "2025-05-19T15:53:42.261114",
     "exception": false,
     "start_time": "2025-05-19T15:53:42.122894",
     "status": "completed"
    },
    "tags": []
   },
   "outputs": [],
   "source": [
    "# -------------------- Save original order --------------------\n",
    "original_order = np.argsort(indices) "
   ]
  },
  {
   "cell_type": "code",
   "execution_count": 6,
   "id": "55e26cd5",
   "metadata": {
    "execution": {
     "iopub.execute_input": "2025-05-19T15:53:42.275020Z",
     "iopub.status.busy": "2025-05-19T15:53:42.274717Z",
     "iopub.status.idle": "2025-05-19T15:53:51.239739Z",
     "shell.execute_reply": "2025-05-19T15:53:51.238521Z"
    },
    "papermill": {
     "duration": 8.975921,
     "end_time": "2025-05-19T15:53:51.243452",
     "exception": false,
     "start_time": "2025-05-19T15:53:42.267531",
     "status": "completed"
    },
    "tags": []
   },
   "outputs": [
    {
     "data": {
      "text/html": [
       "<style>#sk-container-id-1 {color: black;background-color: white;}#sk-container-id-1 pre{padding: 0;}#sk-container-id-1 div.sk-toggleable {background-color: white;}#sk-container-id-1 label.sk-toggleable__label {cursor: pointer;display: block;width: 100%;margin-bottom: 0;padding: 0.3em;box-sizing: border-box;text-align: center;}#sk-container-id-1 label.sk-toggleable__label-arrow:before {content: \"▸\";float: left;margin-right: 0.25em;color: #696969;}#sk-container-id-1 label.sk-toggleable__label-arrow:hover:before {color: black;}#sk-container-id-1 div.sk-estimator:hover label.sk-toggleable__label-arrow:before {color: black;}#sk-container-id-1 div.sk-toggleable__content {max-height: 0;max-width: 0;overflow: hidden;text-align: left;background-color: #f0f8ff;}#sk-container-id-1 div.sk-toggleable__content pre {margin: 0.2em;color: black;border-radius: 0.25em;background-color: #f0f8ff;}#sk-container-id-1 input.sk-toggleable__control:checked~div.sk-toggleable__content {max-height: 200px;max-width: 100%;overflow: auto;}#sk-container-id-1 input.sk-toggleable__control:checked~label.sk-toggleable__label-arrow:before {content: \"▾\";}#sk-container-id-1 div.sk-estimator input.sk-toggleable__control:checked~label.sk-toggleable__label {background-color: #d4ebff;}#sk-container-id-1 div.sk-label input.sk-toggleable__control:checked~label.sk-toggleable__label {background-color: #d4ebff;}#sk-container-id-1 input.sk-hidden--visually {border: 0;clip: rect(1px 1px 1px 1px);clip: rect(1px, 1px, 1px, 1px);height: 1px;margin: -1px;overflow: hidden;padding: 0;position: absolute;width: 1px;}#sk-container-id-1 div.sk-estimator {font-family: monospace;background-color: #f0f8ff;border: 1px dotted black;border-radius: 0.25em;box-sizing: border-box;margin-bottom: 0.5em;}#sk-container-id-1 div.sk-estimator:hover {background-color: #d4ebff;}#sk-container-id-1 div.sk-parallel-item::after {content: \"\";width: 100%;border-bottom: 1px solid gray;flex-grow: 1;}#sk-container-id-1 div.sk-label:hover label.sk-toggleable__label {background-color: #d4ebff;}#sk-container-id-1 div.sk-serial::before {content: \"\";position: absolute;border-left: 1px solid gray;box-sizing: border-box;top: 0;bottom: 0;left: 50%;z-index: 0;}#sk-container-id-1 div.sk-serial {display: flex;flex-direction: column;align-items: center;background-color: white;padding-right: 0.2em;padding-left: 0.2em;position: relative;}#sk-container-id-1 div.sk-item {position: relative;z-index: 1;}#sk-container-id-1 div.sk-parallel {display: flex;align-items: stretch;justify-content: center;background-color: white;position: relative;}#sk-container-id-1 div.sk-item::before, #sk-container-id-1 div.sk-parallel-item::before {content: \"\";position: absolute;border-left: 1px solid gray;box-sizing: border-box;top: 0;bottom: 0;left: 50%;z-index: -1;}#sk-container-id-1 div.sk-parallel-item {display: flex;flex-direction: column;z-index: 1;position: relative;background-color: white;}#sk-container-id-1 div.sk-parallel-item:first-child::after {align-self: flex-end;width: 50%;}#sk-container-id-1 div.sk-parallel-item:last-child::after {align-self: flex-start;width: 50%;}#sk-container-id-1 div.sk-parallel-item:only-child::after {width: 0;}#sk-container-id-1 div.sk-dashed-wrapped {border: 1px dashed gray;margin: 0 0.4em 0.5em 0.4em;box-sizing: border-box;padding-bottom: 0.4em;background-color: white;}#sk-container-id-1 div.sk-label label {font-family: monospace;font-weight: bold;display: inline-block;line-height: 1.2em;}#sk-container-id-1 div.sk-label-container {text-align: center;}#sk-container-id-1 div.sk-container {/* jupyter's `normalize.less` sets `[hidden] { display: none; }` but bootstrap.min.css set `[hidden] { display: none !important; }` so we also need the `!important` here to be able to override the default hidden behavior on the sphinx rendered scikit-learn.org. See: https://github.com/scikit-learn/scikit-learn/issues/21755 */display: inline-block !important;position: relative;}#sk-container-id-1 div.sk-text-repr-fallback {display: none;}</style><div id=\"sk-container-id-1\" class=\"sk-top-container\"><div class=\"sk-text-repr-fallback\"><pre>TruncatedSVD(n_components=100, random_state=42)</pre><b>In a Jupyter environment, please rerun this cell to show the HTML representation or trust the notebook. <br />On GitHub, the HTML representation is unable to render, please try loading this page with nbviewer.org.</b></div><div class=\"sk-container\" hidden><div class=\"sk-item\"><div class=\"sk-estimator sk-toggleable\"><input class=\"sk-toggleable__control sk-hidden--visually\" id=\"sk-estimator-id-1\" type=\"checkbox\" checked><label for=\"sk-estimator-id-1\" class=\"sk-toggleable__label sk-toggleable__label-arrow\">TruncatedSVD</label><div class=\"sk-toggleable__content\"><pre>TruncatedSVD(n_components=100, random_state=42)</pre></div></div></div></div></div>"
      ],
      "text/plain": [
       "TruncatedSVD(n_components=100, random_state=42)"
      ]
     },
     "execution_count": 6,
     "metadata": {},
     "output_type": "execute_result"
    }
   ],
   "source": [
    "# -------------------- SVD --------------------\n",
    "sample_size = 100000\n",
    "sample_indices = np.random.choice(tfidf_array.shape[0], sample_size, replace=False)\n",
    "tfidf_sample = tfidf_array[sample_indices]\n",
    "\n",
    "svd = TruncatedSVD(n_components=100, random_state=42)\n",
    "svd.fit(tfidf_sample)"
   ]
  },
  {
   "cell_type": "code",
   "execution_count": 7,
   "id": "d07c157c",
   "metadata": {
    "execution": {
     "iopub.execute_input": "2025-05-19T15:53:51.256907Z",
     "iopub.status.busy": "2025-05-19T15:53:51.256593Z",
     "iopub.status.idle": "2025-05-19T15:53:53.470383Z",
     "shell.execute_reply": "2025-05-19T15:53:53.468535Z"
    },
    "papermill": {
     "duration": 2.223755,
     "end_time": "2025-05-19T15:53:53.473496",
     "exception": false,
     "start_time": "2025-05-19T15:53:51.249741",
     "status": "completed"
    },
    "tags": []
   },
   "outputs": [],
   "source": [
    "# -------------------- Transform full TF-IDF in chunks --------------------\n",
    "batch_size = 10000\n",
    "tfidf_reduced_chunks = []\n",
    "\n",
    "for i in range(0, tfidf_array.shape[0], batch_size):\n",
    "    tfidf_chunk = tfidf_array[i:i+batch_size]\n",
    "    tfidf_reduced_chunk = svd.transform(tfidf_chunk)\n",
    "    tfidf_reduced_chunks.append(tfidf_reduced_chunk)\n",
    "\n",
    "tfidf_reduced = np.vstack(tfidf_reduced_chunks)"
   ]
  },
  {
   "cell_type": "code",
   "execution_count": 8,
   "id": "573eb2c4",
   "metadata": {
    "execution": {
     "iopub.execute_input": "2025-05-19T15:53:53.486687Z",
     "iopub.status.busy": "2025-05-19T15:53:53.486282Z",
     "iopub.status.idle": "2025-05-19T15:53:55.867071Z",
     "shell.execute_reply": "2025-05-19T15:53:55.866055Z"
    },
    "papermill": {
     "duration": 2.389338,
     "end_time": "2025-05-19T15:53:55.868787",
     "exception": false,
     "start_time": "2025-05-19T15:53:53.479449",
     "status": "completed"
    },
    "tags": []
   },
   "outputs": [],
   "source": [
    "# -------------------- Combine All Features --------------------\n",
    "combined_features = np.hstack([\n",
    "    bert_array,        # (n, 768)\n",
    "    tfidf_reduced,     # (n, 100)\n",
    "])"
   ]
  },
  {
   "cell_type": "code",
   "execution_count": 9,
   "id": "2e97911d",
   "metadata": {
    "execution": {
     "iopub.execute_input": "2025-05-19T15:53:55.879664Z",
     "iopub.status.busy": "2025-05-19T15:53:55.879364Z",
     "iopub.status.idle": "2025-05-19T16:19:40.760043Z",
     "shell.execute_reply": "2025-05-19T16:19:40.757842Z"
    },
    "papermill": {
     "duration": 1544.892824,
     "end_time": "2025-05-19T16:19:40.766569",
     "exception": false,
     "start_time": "2025-05-19T15:53:55.873745",
     "status": "completed"
    },
    "tags": []
   },
   "outputs": [
    {
     "name": "stderr",
     "output_type": "stream",
     "text": [
      "/usr/local/lib/python3.11/dist-packages/umap/umap_.py:1952: UserWarning: n_jobs value 1 overridden to 1 by setting random_state. Use no seed for parallelism.\n",
      "  warn(\n"
     ]
    }
   ],
   "source": [
    "# -------------------- UMAP to 100D --------------------\n",
    "sample_indices = np.random.choice(combined_features.shape[0], 100000, replace=False)\n",
    "umap_model = umap.UMAP(n_components=100, random_state=42)\n",
    "umap_model.fit(combined_features[sample_indices])\n",
    "\n",
    "embedding_100d_chunks = []\n",
    "for i in range(0, combined_features.shape[0], 10000):\n",
    "    chunk = combined_features[i:i+10000]\n",
    "    embedded = umap_model.transform(chunk)\n",
    "    embedding_100d_chunks .append(embedded)\n",
    "\n",
    "embedding_100d = np.vstack(embedding_100d_chunks)"
   ]
  },
  {
   "cell_type": "code",
   "execution_count": 10,
   "id": "e7efb9b9",
   "metadata": {
    "execution": {
     "iopub.execute_input": "2025-05-19T16:19:40.790059Z",
     "iopub.status.busy": "2025-05-19T16:19:40.789629Z",
     "iopub.status.idle": "2025-05-19T22:06:32.245205Z",
     "shell.execute_reply": "2025-05-19T22:06:32.239442Z"
    },
    "papermill": {
     "duration": 20811.507885,
     "end_time": "2025-05-19T22:06:32.286860",
     "exception": false,
     "start_time": "2025-05-19T16:19:40.778975",
     "status": "completed"
    },
    "tags": []
   },
   "outputs": [
    {
     "name": "stdout",
     "output_type": "stream",
     "text": [
      "k = 2, Silhouette Score = 0.7155\n",
      "k = 3, Silhouette Score = 0.4040\n",
      "\n",
      "Best k = 2, silhouette score = 0.7155\n"
     ]
    }
   ],
   "source": [
    "# -------------------- Clustering --------------------\n",
    "scores = {}\n",
    "best_k, best_score, best_labels = None, -1, None\n",
    "for k in range(2, 4):\n",
    "    kmeans = KMeans(n_clusters=k, random_state=42, n_init='auto')\n",
    "    labels = kmeans.fit_predict(embedding_100d)\n",
    "    score = silhouette_score(embedding_100d, labels)\n",
    "    scores[k] = score\n",
    "    print(f\"k = {k}, Silhouette Score = {score:.4f}\")\n",
    "    if score > best_score:\n",
    "        best_k, best_score, best_labels = k, score, labels\n",
    "\n",
    "print(f\"\\nBest k = {best_k}, silhouette score = {best_score:.4f}\")\n",
    "main_df[\"writing_cluster\"] = best_labels\n",
    "structured_df[\"writing_cluster\"] = best_labels"
   ]
  },
  {
   "cell_type": "code",
   "execution_count": 11,
   "id": "e3588060",
   "metadata": {
    "execution": {
     "iopub.execute_input": "2025-05-19T22:06:32.310146Z",
     "iopub.status.busy": "2025-05-19T22:06:32.308329Z",
     "iopub.status.idle": "2025-05-19T22:06:32.368336Z",
     "shell.execute_reply": "2025-05-19T22:06:32.366913Z"
    },
    "papermill": {
     "duration": 0.075055,
     "end_time": "2025-05-19T22:06:32.370454",
     "exception": false,
     "start_time": "2025-05-19T22:06:32.295399",
     "status": "completed"
    },
    "tags": []
   },
   "outputs": [
    {
     "name": "stdout",
     "output_type": "stream",
     "text": [
      "0    681777\n",
      "1     33050\n",
      "Name: count, dtype: int64\n"
     ]
    }
   ],
   "source": [
    "# Count number of samples per cluster\n",
    "cluster_counts = pd.Series(best_labels).value_counts().sort_index()\n",
    "print(cluster_counts)"
   ]
  },
  {
   "cell_type": "code",
   "execution_count": 12,
   "id": "d5d3d3fe",
   "metadata": {
    "execution": {
     "iopub.execute_input": "2025-05-19T22:06:32.385512Z",
     "iopub.status.busy": "2025-05-19T22:06:32.385123Z",
     "iopub.status.idle": "2025-05-19T22:09:04.725229Z",
     "shell.execute_reply": "2025-05-19T22:09:04.723343Z"
    },
    "papermill": {
     "duration": 152.356772,
     "end_time": "2025-05-19T22:09:04.735293",
     "exception": false,
     "start_time": "2025-05-19T22:06:32.378521",
     "status": "completed"
    },
    "tags": []
   },
   "outputs": [
    {
     "name": "stderr",
     "output_type": "stream",
     "text": [
      "/usr/local/lib/python3.11/dist-packages/umap/umap_.py:1952: UserWarning: n_jobs value 1 overridden to 1 by setting random_state. Use no seed for parallelism.\n",
      "  warn(\n"
     ]
    },
    {
     "data": {
      "image/png": "[encoded data removed]",
      "text/plain": [
       "<Figure size 1000x700 with 1 Axes>"
      ]
     },
     "metadata": {},
     "output_type": "display_data"
    }
   ],
   "source": [
    "# -------------------- UMAP 2D Visualization --------------------\n",
    "sample_indices = np.random.choice(len(combined_features), size=100000, replace=False)\n",
    "sampled_features = combined_features[sample_indices]\n",
    "sampled_labels = best_labels[sample_indices]\n",
    "\n",
    "umap_2d = umap.UMAP(n_components=2, random_state=42)\n",
    "embedding_2d = umap_2d.fit_transform(sampled_features)\n",
    "\n",
    "np.save(\"embedding_2d_umap_sample.npy\", embedding_2d)\n",
    "np.save(\"cluster_labels_sample.npy\", sampled_labels)\n",
    "\n",
    "plt.figure(figsize=(10, 7))\n",
    "palette = sns.color_palette(\"hsv\", len(np.unique(best_labels)))\n",
    "sns.scatterplot(x=embedding_2d[:, 0], y=embedding_2d[:, 1], hue=sampled_labels, palette=palette, s=10, linewidth=0)\n",
    "plt.title(\"Writing Style Clusters (TF-IDF + BERT + Stylistic)\")\n",
    "plt.xlabel(\"UMAP-1\")\n",
    "plt.ylabel(\"UMAP-2\")\n",
    "plt.legend(title='Cluster', bbox_to_anchor=(1.05, 1), loc='upper left')\n",
    "plt.tight_layout()\n",
    "plt.savefig(\"umap_clusters.png\", dpi=300)\n",
    "plt.show()\n",
    "plt.close()"
   ]
  },
  {
   "cell_type": "code",
   "execution_count": 13,
   "id": "24154b4e",
   "metadata": {
    "execution": {
     "iopub.execute_input": "2025-05-19T22:09:04.749386Z",
     "iopub.status.busy": "2025-05-19T22:09:04.748960Z",
     "iopub.status.idle": "2025-05-19T22:10:16.668534Z",
     "shell.execute_reply": "2025-05-19T22:10:16.667633Z"
    },
    "papermill": {
     "duration": 71.929053,
     "end_time": "2025-05-19T22:10:16.670523",
     "exception": false,
     "start_time": "2025-05-19T22:09:04.741470",
     "status": "completed"
    },
    "tags": []
   },
   "outputs": [],
   "source": [
    "# -------------------- Save Outputs in Original Order --------------------\n",
    "structured_df.iloc[original_order].to_csv(\"real_estate_structured_with_writing_clusters.csv\", index=False)\n",
    "main_df.iloc[original_order].to_csv(\"real_estate_main_with_clusters.csv\", index=False)\n",
    "np.save(\"kmeans_cluster_labels.npy\", best_labels[original_order])"
   ]
  },
  {
   "cell_type": "code",
   "execution_count": 14,
   "id": "14af63f7",
   "metadata": {
    "execution": {
     "iopub.execute_input": "2025-05-19T22:10:16.684662Z",
     "iopub.status.busy": "2025-05-19T22:10:16.684203Z",
     "iopub.status.idle": "2025-05-19T22:10:54.916018Z",
     "shell.execute_reply": "2025-05-19T22:10:54.914684Z"
    },
    "papermill": {
     "duration": 38.241703,
     "end_time": "2025-05-19T22:10:54.918270",
     "exception": false,
     "start_time": "2025-05-19T22:10:16.676567",
     "status": "completed"
    },
    "tags": []
   },
   "outputs": [],
   "source": [
    "# -------------------- Cluster Descriptions --------------------\n",
    "vectorizer_small = TfidfVectorizer(max_features=500)\n",
    "X_tfidf = vectorizer_small.fit_transform(main_df['description'].fillna(''))\n",
    "terms = np.array(vectorizer_small.get_feature_names_out())\n",
    "\n",
    "def describe_cluster(cluster_id, df_main, df_structured, tfidf_matrix, terms):\n",
    "    mask = df_main['writing_cluster'] == cluster_id\n",
    "    count = mask.sum()\n",
    "    mean_len = df_main.loc[mask,'description_length'].mean()\n",
    "    mean_words = df_main.loc[mask,'description_word_count'].mean()\n",
    "    mean_price = df_main.loc[mask,'price_per_sqm'].mean()\n",
    "    mean_amenities = df_main.loc[mask,'total_amenities'].mean()\n",
    "    mean_construction_year = df_main.loc[mask,'construction_year'].mean()\n",
    "    mean_bulding_size = df_main.loc[mask,'building_size'].mean()\n",
    "    \n",
    "    # ----\n",
    "\n",
    "    median_len = df_main.loc[mask,'description_length'].median()\n",
    "    median_words = df_main.loc[mask,'description_word_count'].median()\n",
    "    median_price = df_main.loc[mask,'price_per_sqm'].median()\n",
    "    median_amenities = df_main.loc[mask,'total_amenities'].median()\n",
    "    median_construction_year = df_main.loc[mask,'construction_year'].median()\n",
    "    median_bulding_size = df_main.loc[mask,'building_size'].median()\n",
    "    \n",
    "    cluster_tfidf = tfidf_matrix[mask.values].mean(axis=0).A1\n",
    "    top_words = terms[np.argsort(cluster_tfidf)[-50:][::-1]]\n",
    "\n",
    "    desc = f\"Cluster {cluster_id} (samples: {count}):\\n\"\n",
    "    desc += f\"- Mean length: {mean_len:.0f} chars, {mean_words:.0f} words\\n\"\n",
    "    desc += f\"- Mean price/sqm: {mean_price:.0f}\\n\"\n",
    "    desc += f\"- Mean amenities: {mean_amenities:.1f}\\n\"\n",
    "    desc += f\"- Mean building size: {mean_bulding_size:.0f} m²\\n\"\n",
    "    desc += f\"- Mean construction year: {mean_construction_year:.0f}\\n\"\n",
    "    desc += f\"- Common words: {' | '.join(top_words)}\\n\"\n",
    "    \n",
    "    # ----\n",
    "    \n",
    "    desc += f\"- Median length: {median_len:.0f} chars, {median_words:.0f} words\\n\"\n",
    "    desc += f\"- Median price/sqm: {median_price:.0f}\\n\"\n",
    "    desc += f\"- Median amenities: {median_amenities:.1f}\\n\"\n",
    "    desc += f\"- Median building size: {median_bulding_size:.0f} m²\\n\"\n",
    "    desc += f\"- Median construction year: {median_construction_year:.0f}\\n\"\n",
    "\n",
    "    if mean_words < 20 or mean_len < 120 or median_len < 120 or median_words < 20:\n",
    "        desc += \"- Style: Very short and concise\\n\"\n",
    "    elif mean_words > 60 or mean_len > 250 or median_words > 60 or median_len >250:\n",
    "        desc += \"- Style: Long and detailed\\n\"\n",
    "    else:\n",
    "        desc += \"- Style: Medium-length\\n\"\n",
    "\n",
    "    if mean_price > df_main['price_per_sqm'].mean() or median_price > df_main['price_per_sqm'].median():\n",
    "        desc += \"- Ads describe more expensive properties\\n\"\n",
    "    else:\n",
    "        desc += \"- Ads often for mid/low-price properties\\n\"\n",
    "\n",
    "    if median_bulding_size < df_main['building_size'].median() or mean_bulding_size < df_main['building_size'].mean():\n",
    "        desc += \"- Ads often for bigger properties\\n\"\n",
    "    else:\n",
    "        desc += \"- Ads often for mid/small properties\\n\"\n",
    "        \n",
    "    return desc\n",
    "\n",
    "os.makedirs(\"cluster_descriptions\", exist_ok=True)\n",
    "descriptions = []\n",
    "for cid in sorted(main_df['writing_cluster'].unique()):\n",
    "    text = describe_cluster(cid, main_df, structured_df, X_tfidf, terms)\n",
    "    descriptions.append(text)\n",
    "    with open(f\"cluster_descriptions/cluster_{cid}_description.txt\", \"w\", encoding=\"utf-8\") as f:\n",
    "        f.write(text)\n",
    "\n",
    "with open(\"cluster_descriptions/all_clusters_summary.txt\", \"w\", encoding=\"utf-8\") as f:\n",
    "    for text in descriptions:\n",
    "        f.write(text + \"\\n\" + \"-\"*50 + \"\\n\")"
   ]
  },
  {
   "cell_type": "code",
   "execution_count": 15,
   "id": "3b6b2916",
   "metadata": {
    "execution": {
     "iopub.execute_input": "2025-05-19T22:10:54.932515Z",
     "iopub.status.busy": "2025-05-19T22:10:54.932161Z",
     "iopub.status.idle": "2025-05-19T22:10:54.936977Z",
     "shell.execute_reply": "2025-05-19T22:10:54.935586Z"
    },
    "papermill": {
     "duration": 0.013682,
     "end_time": "2025-05-19T22:10:54.938637",
     "exception": false,
     "start_time": "2025-05-19T22:10:54.924955",
     "status": "completed"
    },
    "tags": []
   },
   "outputs": [],
   "source": [
    "# -------------------- Summary Table --------------------\n",
    "# main_df.groupby(\"writing_cluster\")[[\"price_per_sqm\", \"description_length\", \"description_word_count\", \"building_size\", \"construction_year\"]].agg(['median', 'std', 'mean'])"
   ]
  },
  {
   "cell_type": "code",
   "execution_count": null,
   "id": "3cb4d7e3",
   "metadata": {
    "papermill": {
     "duration": 0.005854,
     "end_time": "2025-05-19T22:10:54.951477",
     "exception": false,
     "start_time": "2025-05-19T22:10:54.945623",
     "status": "completed"
    },
    "tags": []
   },
   "outputs": [],
   "source": []
  }
 ],
 "metadata": {
  "colab": {
   "provenance": []
  },
  "kaggle": {
   "accelerator": "none",
   "dataSources": [
    {
     "datasetId": 7392577,
     "sourceId": 11774778,
     "sourceType": "datasetVersion"
    },
    {
     "datasetId": 7428261,
     "sourceId": 11825047,
     "sourceType": "datasetVersion"
    }
   ],
   "dockerImageVersionId": 31012,
   "isGpuEnabled": false,
   "isInternetEnabled": true,
   "language": "python",
   "sourceType": "notebook"
  },
  "kernelspec": {
   "display_name": "Python 3",
   "language": "python",
   "name": "python3"
  },
  "language_info": {
   "codemirror_mode": {
    "name": "ipython",
    "version": 3
   },
   "file_extension": ".py",
   "mimetype": "text/x-python",
   "name": "python",
   "nbconvert_exporter": "python",
   "pygments_lexer": "ipython3",
   "version": "3.11.11"
  },
  "papermill": {
   "default_parameters": {},
   "duration": 22781.814536,
   "end_time": "2025-05-19T22:10:59.826462",
   "environment_variables": {},
   "exception": null,
   "input_path": "__notebook__.ipynb",
   "output_path": "__notebook__.ipynb",
   "parameters": {},
   "start_time": "2025-05-19T15:51:18.011926",
   "version": "2.6.0"
  }
 },
 "nbformat": 4,
 "nbformat_minor": 5
}
